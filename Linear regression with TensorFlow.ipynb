{
 "cells": [
  {
   "cell_type": "markdown",
   "metadata": {},
   "source": [
    "The file house_prices_training.txt contains a training set of housing prices in Port-\n",
    "land, Oregon. The first column is the size of the house (in square feet), the\n",
    "second column is the number of bedrooms, and the third column is the price\n",
    "of the house. According to prev implementation the predicted price of a 1650 sq-ft, 3 br house (using gradient descent in octave):\n",
    " $293081.825679\n"
   ]
  },
  {
   "cell_type": "code",
   "execution_count": 112,
   "metadata": {
    "collapsed": true
   },
   "outputs": [],
   "source": [
    "import numpy as np\n",
    "import tensorflow as tf\n",
    "\n",
    "my_data = np.genfromtxt('data/house_prices_training.txt', delimiter=',')\n",
    "x_train = my_data[:,:2]\n",
    "y_train = my_data[:,2:].flatten()"
   ]
  },
  {
   "cell_type": "code",
   "execution_count": 113,
   "metadata": {
    "collapsed": true
   },
   "outputs": [],
   "source": [
    "def feature_normalize(dataset):\n",
    "    mu = np.mean(dataset,axis=0)\n",
    "    sigma = np.std(dataset,axis=0)\n",
    "    return ((dataset - mu)/sigma, mu, sigma)"
   ]
  },
  {
   "cell_type": "code",
   "execution_count": 137,
   "metadata": {},
   "outputs": [
    {
     "name": "stdout",
     "output_type": "stream",
     "text": [
      "loss: 4.08656e+09\n",
      "prediction: [[ 293081.28125]]\n"
     ]
    }
   ],
   "source": [
    "ANY_NUMBER = None\n",
    "NUMBER_OF_FEATURES = 3\n",
    "LEARNING_RATE = 0.03\n",
    "NUMBER_OF_EXAMPLES = len(x_train)\n",
    "\n",
    "# Model parameters\n",
    "\n",
    "\n",
    "W = tf.Variable(tf.zeros([NUMBER_OF_FEATURES,1]))\n",
    "\n",
    "# Model input and output\n",
    "\n",
    "x = tf.placeholder(tf.float32, [ANY_NUMBER, NUMBER_OF_FEATURES])\n",
    "y = tf.placeholder(tf.float32, [ANY_NUMBER, 1])\n",
    "linear_model = tf.matmul(x, W)\n",
    "\n",
    "x_normalized, mu, sigma = feature_normalize(x_train)\n",
    "x_2 = np.append(np.ones((NUMBER_OF_EXAMPLES,1)),x_normalized, axis=1)\n",
    "y_2 = np.reshape(y_train,[NUMBER_OF_EXAMPLES,1])\n",
    "\n",
    "# loss\n",
    "loss = tf.reduce_mean(tf.square(linear_model - y_2))\n",
    "\n",
    "train = tf.train.GradientDescentOptimizer(LEARNING_RATE).minimize(loss)\n",
    "\n",
    "# training loop\n",
    "init = tf.global_variables_initializer()\n",
    "sess = tf.Session()\n",
    "sess.run(init) \n",
    "\n",
    "for step in range(500):\n",
    "  sess.run(train, {x:x_2, y:y_2})\n",
    "\n",
    "# evaluate training accuracy\n",
    "print(\"loss:\",sess.run(loss, {x:x_2,y:y_2}))  \n",
    "\n",
    "area = (1650 - mu[0]) /sigma[0]\n",
    "rooms = (3 - mu[1])/sigma[1]\n",
    "print(\"prediction:\",sess.run(linear_model, feed_dict={x: [[1, area, rooms]]}))\n",
    "\n"
   ]
  },
  {
   "cell_type": "code",
   "execution_count": 60,
   "metadata": {},
   "outputs": [
    {
     "data": {
      "image/png": "[encoded data removed]",
      "text/plain": [
       "<matplotlib.figure.Figure at 0x7fd750a279e8>"
      ]
     },
     "metadata": {},
     "output_type": "display_data"
    }
   ],
   "source": [
    "import matplotlib.pyplot as plt\n",
    "\n",
    "pred_y = sess.run(linear_model, feed_dict={x: x_2})\n",
    "\n",
    "fig, ax = plt.subplots()\n",
    "ax.scatter(y_2, pred_y)\n",
    "ax.plot([y_2.min(), y_2.max()], [y_2.min(), y_2.max()], 'k--', lw=3)\n",
    "ax.set_xlabel('Measured')\n",
    "ax.set_ylabel('Predicted')\n",
    "plt.show()"
   ]
  },
  {
   "cell_type": "code",
   "execution_count": 173,
   "metadata": {},
   "outputs": [
    {
     "name": "stdout",
     "output_type": "stream",
     "text": [
      "INFO:tensorflow:Using default config.\n",
      "WARNING:tensorflow:Using temporary folder as model directory: /tmp/tmpl428ha_8\n",
      "INFO:tensorflow:Using config: {'_environment': 'local', '_session_config': None, '_cluster_spec': <tensorflow.python.training.server_lib.ClusterSpec object at 0x7fd749073ac8>, '_save_summary_steps': 100, '_num_ps_replicas': 0, '_task_type': None, '_is_chief': True, '_keep_checkpoint_every_n_hours': 10000, '_master': '', '_model_dir': '/tmp/tmpl428ha_8', '_task_id': 0, '_evaluation_master': '', '_tf_config': gpu_options {\n",
      "  per_process_gpu_memory_fraction: 1.0\n",
      "}\n",
      ", '_save_checkpoints_secs': 600, '_save_checkpoints_steps': None, '_keep_checkpoint_max': 5, '_tf_random_seed': None, '_num_worker_replicas': 0}\n",
      "WARNING:tensorflow:From /home/chelis/.virtualenvs/tensorflow/lib/python3.5/site-packages/tensorflow/contrib/learn/python/learn/estimators/head.py:625: scalar_summary (from tensorflow.python.ops.logging_ops) is deprecated and will be removed after 2016-11-30.\n",
      "Instructions for updating:\n",
      "Please switch to tf.summary.scalar. Note that tf.summary.scalar uses the node name instead of the tag. This means that TensorFlow will automatically de-duplicate summary names based on the scope they are created in. Also, passing a tensor or list of tags to a scalar summary op is no longer supported.\n",
      "INFO:tensorflow:Create CheckpointSaverHook.\n",
      "INFO:tensorflow:Saving checkpoints for 1 into /tmp/tmpl428ha_8/model.ckpt.\n",
      "INFO:tensorflow:step = 1, loss = 1.31183e+11\n",
      "INFO:tensorflow:Loss for final step: 1.31183e+11.\n",
      "WARNING:tensorflow:From /home/chelis/.virtualenvs/tensorflow/lib/python3.5/site-packages/tensorflow/contrib/learn/python/learn/estimators/head.py:625: scalar_summary (from tensorflow.python.ops.logging_ops) is deprecated and will be removed after 2016-11-30.\n",
      "Instructions for updating:\n",
      "Please switch to tf.summary.scalar. Note that tf.summary.scalar uses the node name instead of the tag. This means that TensorFlow will automatically de-duplicate summary names based on the scope they are created in. Also, passing a tensor or list of tags to a scalar summary op is no longer supported.\n",
      "INFO:tensorflow:Starting evaluation at 2017-06-29-16:47:21\n",
      "INFO:tensorflow:Restoring parameters from /tmp/tmpl428ha_8/model.ckpt-1\n",
      "INFO:tensorflow:Evaluation [1/1]\n",
      "INFO:tensorflow:Finished evaluation at 2017-06-29-16:47:21\n",
      "INFO:tensorflow:Saving dict for global step 1: global_step = 1, loss = 1.31183e+11\n",
      "results:  {'global_step': 1, 'loss': 1.311829e+11}\n"
     ]
    }
   ],
   "source": [
    "# With the high level API\n",
    "features = [tf.contrib.layers.real_valued_column(\"area\", dimension=1),tf.contrib.layers.real_valued_column(\"rooms\", dimension=1)]\n",
    "estimator = tf.contrib.learn.LinearRegressor(feature_columns=features)\n",
    "input_fn = tf.contrib.learn.io.numpy_input_fn({\"area\":x_2[:,1:2].flatten(), \"rooms\":x_2[:,2:].flatten()}, y_train)\n",
    "\n",
    "estimator = estimator.fit(input_fn=input_fn, steps=500)\n",
    "# train_loss = estimator.evaluate(input_fn=input_fn)\n",
    "# print(\"train loss: %r\"% train_loss)\n",
    "results = estimator.evaluate(input_fn=input_fn, steps=1)\n",
    "print(\"results: \",results)"
   ]
  },
  {
   "cell_type": "code",
   "execution_count": 174,
   "metadata": {},
   "outputs": [
    {
     "name": "stdout",
     "output_type": "stream",
     "text": [
      "WARNING:tensorflow:From /home/chelis/.virtualenvs/tensorflow/lib/python3.5/site-packages/tensorflow/python/util/deprecation.py:347: calling LinearRegressor.predict (from tensorflow.contrib.learn.python.learn.estimators.linear) with outputs=None is deprecated and will be removed after 2017-03-01.\n",
      "Instructions for updating:\n",
      "Please switch to predict_scores, or set `outputs` argument.\n",
      "INFO:tensorflow:Restoring parameters from /tmp/tmpl428ha_8/model.ckpt-1\n",
      "0.0655726\n"
     ]
    }
   ],
   "source": [
    "input_fn_2 = tf.contrib.learn.io.numpy_input_fn({\"area\":np.array([area]), \"rooms\":np.array([rooms])})\n",
    "\n",
    "predictor = estimator.predict(\n",
    "    input_fn=input_fn_2\n",
    ")\n",
    "\n",
    "for item in predictor:\n",
    "    print(item)"
   ]
  },
  {
   "cell_type": "code",
   "execution_count": null,
   "metadata": {
    "collapsed": true
   },
   "outputs": [],
   "source": []
  },
  {
   "cell_type": "code",
   "execution_count": null,
   "metadata": {
    "collapsed": true
   },
   "outputs": [],
   "source": []
  }
 ],
 "metadata": {
  "kernelspec": {
   "display_name": "Python 3",
   "language": "python",
   "name": "python3"
  },
  "language_info": {
   "codemirror_mode": {
    "name": "ipython",
    "version": 3
   },
   "file_extension": ".py",
   "mimetype": "text/x-python",
   "name": "python",
   "nbconvert_exporter": "python",
   "pygments_lexer": "ipython3",
   "version": "3.6.1"
  }
 },
 "nbformat": 4,
 "nbformat_minor": 2
}
